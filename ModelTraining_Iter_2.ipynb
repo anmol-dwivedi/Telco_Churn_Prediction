{
 "cells": [
  {
   "cell_type": "code",
   "execution_count": 1,
   "id": "e0cb649f-bb3a-435f-bd71-eda84d8bb6de",
   "metadata": {},
   "outputs": [],
   "source": [
    "import numpy as np\n",
    "import pandas as pd\n",
    "import seaborn as sns\n",
    "import matplotlib.pyplot as plt\n",
    "\n",
    "\n",
    "import sys\n",
    "import os\n",
    "import time\n",
    "\n",
    "\n",
    "import mlflow\n",
    "from sklearn.model_selection import cross_val_score\n",
    "from sklearn.metrics import recall_score\n",
    "from sklearn.model_selection import GridSearchCV\n",
    "\n",
    "\n",
    "from sklearn.linear_model import LogisticRegression\n",
    "from sklearn.tree import DecisionTreeClassifier\n",
    "from sklearn.ensemble import RandomForestClassifier\n",
    "from sklearn.discriminant_analysis import LinearDiscriminantAnalysis\n",
    "from sklearn.ensemble import AdaBoostClassifier\n",
    "from sklearn import svm\n",
    "from sklearn.neighbors import KNeighborsClassifier\n",
    "from sklearn.neural_network import MLPClassifier\n",
    "from sklearn.discriminant_analysis import QuadraticDiscriminantAnalysis\n",
    "\n",
    "import xgboost as xgb\n",
    "from lightgbm import LGBMClassifier"
   ]
  },
  {
   "cell_type": "code",
   "execution_count": 2,
   "id": "1007dada-5ac7-49a3-971d-f8fb507becb5",
   "metadata": {},
   "outputs": [
    {
     "data": {
      "text/html": [
       "<div>\n",
       "<style scoped>\n",
       "    .dataframe tbody tr th:only-of-type {\n",
       "        vertical-align: middle;\n",
       "    }\n",
       "\n",
       "    .dataframe tbody tr th {\n",
       "        vertical-align: top;\n",
       "    }\n",
       "\n",
       "    .dataframe thead th {\n",
       "        text-align: right;\n",
       "    }\n",
       "</style>\n",
       "<table border=\"1\" class=\"dataframe\">\n",
       "  <thead>\n",
       "    <tr style=\"text-align: right;\">\n",
       "      <th></th>\n",
       "      <th>MonthlyRevenue</th>\n",
       "      <th>MonthlyMinutes</th>\n",
       "      <th>TotalRecurringCharge</th>\n",
       "      <th>DirectorAssistedCalls</th>\n",
       "      <th>OverageMinutes</th>\n",
       "      <th>RoamingCalls</th>\n",
       "      <th>PercChangeMinutes</th>\n",
       "      <th>PercChangeRevenues</th>\n",
       "      <th>DroppedCalls</th>\n",
       "      <th>BlockedCalls</th>\n",
       "      <th>...</th>\n",
       "      <th>PrizmCode_Rural</th>\n",
       "      <th>PrizmCode_Suburban</th>\n",
       "      <th>PrizmCode_Town</th>\n",
       "      <th>Occupation_Crafts</th>\n",
       "      <th>Occupation_Homemaker</th>\n",
       "      <th>Occupation_Other</th>\n",
       "      <th>Occupation_Professional</th>\n",
       "      <th>Occupation_Retired</th>\n",
       "      <th>Occupation_Self</th>\n",
       "      <th>Occupation_Student</th>\n",
       "    </tr>\n",
       "  </thead>\n",
       "  <tbody>\n",
       "    <tr>\n",
       "      <th>0</th>\n",
       "      <td>-1.034271</td>\n",
       "      <td>-0.641018</td>\n",
       "      <td>-1.132206</td>\n",
       "      <td>-0.405699</td>\n",
       "      <td>-0.697466</td>\n",
       "      <td>-0.597359</td>\n",
       "      <td>-0.993339</td>\n",
       "      <td>-1.667634</td>\n",
       "      <td>-0.800615</td>\n",
       "      <td>-0.571428</td>\n",
       "      <td>...</td>\n",
       "      <td>-0.224589</td>\n",
       "      <td>1.449140</td>\n",
       "      <td>-0.421117</td>\n",
       "      <td>-0.176738</td>\n",
       "      <td>-0.056264</td>\n",
       "      <td>-1.655607</td>\n",
       "      <td>2.175118</td>\n",
       "      <td>-0.12169</td>\n",
       "      <td>-0.133565</td>\n",
       "      <td>-0.087381</td>\n",
       "    </tr>\n",
       "    <tr>\n",
       "      <th>1</th>\n",
       "      <td>-1.266366</td>\n",
       "      <td>-1.122170</td>\n",
       "      <td>-1.365359</td>\n",
       "      <td>-0.704544</td>\n",
       "      <td>-0.697466</td>\n",
       "      <td>-0.597359</td>\n",
       "      <td>0.031072</td>\n",
       "      <td>0.199780</td>\n",
       "      <td>-0.873059</td>\n",
       "      <td>-0.798276</td>\n",
       "      <td>...</td>\n",
       "      <td>-0.224589</td>\n",
       "      <td>1.449140</td>\n",
       "      <td>-0.421117</td>\n",
       "      <td>-0.176738</td>\n",
       "      <td>-0.056264</td>\n",
       "      <td>-1.655607</td>\n",
       "      <td>2.175118</td>\n",
       "      <td>-0.12169</td>\n",
       "      <td>-0.133565</td>\n",
       "      <td>-0.087381</td>\n",
       "    </tr>\n",
       "    <tr>\n",
       "      <th>2</th>\n",
       "      <td>-0.570745</td>\n",
       "      <td>-1.126774</td>\n",
       "      <td>-0.386116</td>\n",
       "      <td>-0.704544</td>\n",
       "      <td>-0.697466</td>\n",
       "      <td>-0.597359</td>\n",
       "      <td>0.044463</td>\n",
       "      <td>0.199780</td>\n",
       "      <td>-0.927391</td>\n",
       "      <td>-0.798276</td>\n",
       "      <td>...</td>\n",
       "      <td>-0.224589</td>\n",
       "      <td>-0.690065</td>\n",
       "      <td>2.374639</td>\n",
       "      <td>5.658086</td>\n",
       "      <td>-0.056264</td>\n",
       "      <td>-1.655607</td>\n",
       "      <td>-0.459745</td>\n",
       "      <td>-0.12169</td>\n",
       "      <td>-0.133565</td>\n",
       "      <td>-0.087381</td>\n",
       "    </tr>\n",
       "    <tr>\n",
       "      <th>3</th>\n",
       "      <td>0.895322</td>\n",
       "      <td>1.875243</td>\n",
       "      <td>1.339217</td>\n",
       "      <td>0.777726</td>\n",
       "      <td>-0.697466</td>\n",
       "      <td>-0.597359</td>\n",
       "      <td>1.109047</td>\n",
       "      <td>0.995888</td>\n",
       "      <td>2.368792</td>\n",
       "      <td>1.697050</td>\n",
       "      <td>...</td>\n",
       "      <td>-0.224589</td>\n",
       "      <td>-0.690065</td>\n",
       "      <td>-0.421117</td>\n",
       "      <td>-0.176738</td>\n",
       "      <td>-0.056264</td>\n",
       "      <td>0.604008</td>\n",
       "      <td>-0.459745</td>\n",
       "      <td>-0.12169</td>\n",
       "      <td>-0.133565</td>\n",
       "      <td>-0.087381</td>\n",
       "    </tr>\n",
       "    <tr>\n",
       "      <th>4</th>\n",
       "      <td>-1.261399</td>\n",
       "      <td>-1.145191</td>\n",
       "      <td>-1.365359</td>\n",
       "      <td>-0.704544</td>\n",
       "      <td>-0.697466</td>\n",
       "      <td>-0.597359</td>\n",
       "      <td>0.057854</td>\n",
       "      <td>0.180123</td>\n",
       "      <td>-0.927391</td>\n",
       "      <td>-0.798276</td>\n",
       "      <td>...</td>\n",
       "      <td>-0.224589</td>\n",
       "      <td>-0.690065</td>\n",
       "      <td>-0.421117</td>\n",
       "      <td>-0.176738</td>\n",
       "      <td>-0.056264</td>\n",
       "      <td>-1.655607</td>\n",
       "      <td>2.175118</td>\n",
       "      <td>-0.12169</td>\n",
       "      <td>-0.133565</td>\n",
       "      <td>-0.087381</td>\n",
       "    </tr>\n",
       "  </tbody>\n",
       "</table>\n",
       "<p>5 rows × 71 columns</p>\n",
       "</div>"
      ],
      "text/plain": [
       "   MonthlyRevenue  MonthlyMinutes  TotalRecurringCharge  \\\n",
       "0       -1.034271       -0.641018             -1.132206   \n",
       "1       -1.266366       -1.122170             -1.365359   \n",
       "2       -0.570745       -1.126774             -0.386116   \n",
       "3        0.895322        1.875243              1.339217   \n",
       "4       -1.261399       -1.145191             -1.365359   \n",
       "\n",
       "   DirectorAssistedCalls  OverageMinutes  RoamingCalls  PercChangeMinutes  \\\n",
       "0              -0.405699       -0.697466     -0.597359          -0.993339   \n",
       "1              -0.704544       -0.697466     -0.597359           0.031072   \n",
       "2              -0.704544       -0.697466     -0.597359           0.044463   \n",
       "3               0.777726       -0.697466     -0.597359           1.109047   \n",
       "4              -0.704544       -0.697466     -0.597359           0.057854   \n",
       "\n",
       "   PercChangeRevenues  DroppedCalls  BlockedCalls  ...  PrizmCode_Rural  \\\n",
       "0           -1.667634     -0.800615     -0.571428  ...        -0.224589   \n",
       "1            0.199780     -0.873059     -0.798276  ...        -0.224589   \n",
       "2            0.199780     -0.927391     -0.798276  ...        -0.224589   \n",
       "3            0.995888      2.368792      1.697050  ...        -0.224589   \n",
       "4            0.180123     -0.927391     -0.798276  ...        -0.224589   \n",
       "\n",
       "   PrizmCode_Suburban  PrizmCode_Town  Occupation_Crafts  \\\n",
       "0            1.449140       -0.421117          -0.176738   \n",
       "1            1.449140       -0.421117          -0.176738   \n",
       "2           -0.690065        2.374639           5.658086   \n",
       "3           -0.690065       -0.421117          -0.176738   \n",
       "4           -0.690065       -0.421117          -0.176738   \n",
       "\n",
       "   Occupation_Homemaker  Occupation_Other  Occupation_Professional  \\\n",
       "0             -0.056264         -1.655607                 2.175118   \n",
       "1             -0.056264         -1.655607                 2.175118   \n",
       "2             -0.056264         -1.655607                -0.459745   \n",
       "3             -0.056264          0.604008                -0.459745   \n",
       "4             -0.056264         -1.655607                 2.175118   \n",
       "\n",
       "   Occupation_Retired  Occupation_Self  Occupation_Student  \n",
       "0            -0.12169        -0.133565           -0.087381  \n",
       "1            -0.12169        -0.133565           -0.087381  \n",
       "2            -0.12169        -0.133565           -0.087381  \n",
       "3            -0.12169        -0.133565           -0.087381  \n",
       "4            -0.12169        -0.133565           -0.087381  \n",
       "\n",
       "[5 rows x 71 columns]"
      ]
     },
     "execution_count": 2,
     "metadata": {},
     "output_type": "execute_result"
    }
   ],
   "source": [
    "df1 = pd.read_excel(\"train4_outliers_treated.xlsx\")\n",
    "df1.head()"
   ]
  },
  {
   "cell_type": "code",
   "execution_count": 4,
   "id": "cce138ab-712b-43b7-9a8a-48526b64e44b",
   "metadata": {},
   "outputs": [],
   "source": [
    "# dropping the customerid\n",
    "# df1.drop(['CustomerID'], axis=1, inplace=True)\n",
    "# df1.head()"
   ]
  },
  {
   "cell_type": "code",
   "execution_count": null,
   "id": "4fb8c904-0959-48ab-9026-b97ae1fc6415",
   "metadata": {},
   "outputs": [],
   "source": []
  },
  {
   "cell_type": "code",
   "execution_count": null,
   "id": "8d53f436-b8cf-47a9-a5a2-a22d1bcbeeb3",
   "metadata": {},
   "outputs": [],
   "source": [
    "# Train Test Split\n",
    "from sklearn.model_selection import train_test_split\n",
    "from sklearn.metrics import confusion_matrix, classification_report, roc_auc_score, roc_curve\n",
    "\n",
    "\n",
    "# split the dataset into independent and dependent data\n",
    "X = df1.drop('Churn', axis=1)\n",
    "Y = df1['Churn']\n",
    "\n",
    "\n",
    "# performing the split\n",
    "x_train, x_test, y_train, y_test = train_test_split(X, Y, \n",
    "                                                   test_size=0.30,\n",
    "                                                   random_state=1,\n",
    "                                                   stratify = Y)"
   ]
  },
  {
   "cell_type": "markdown",
   "id": "5941314d-47f2-4183-b32c-39fa08445c48",
   "metadata": {},
   "source": [
    "# Functions for Model Performance"
   ]
  },
  {
   "cell_type": "code",
   "execution_count": null,
   "id": "a5bc44bb-ffe1-4e4e-8578-c9fd71bed82c",
   "metadata": {},
   "outputs": [],
   "source": [
    "def model_performance(model_name,\n",
    "                      x_train_data,\n",
    "                      y_train_data, \n",
    "                      x_test_data,\n",
    "                      y_test_data,): \n",
    "\n",
    "    train_preds = model_name.predict(x_train)\n",
    "    test_preds= model_name.predict(x_test)\n",
    "    \n",
    "    a = classification_report(y_train_data, train_preds)\n",
    "    b = classification_report(y_test_data, test_preds)\n",
    "    \n",
    "    c = round(model_name.score(x_train_data, y_train_data),4)\n",
    "    d = round(model_name.score(x_test_data, y_test_data),4)\n",
    "    \n",
    "    print('classification report for training data')\n",
    "    print(a)\n",
    "    print('\\n')\n",
    "    print('classification report for testing data')\n",
    "    print(b)\n",
    "    print('\\n')\n",
    "    print('the model score for training data is ',c)\n",
    "    print('the model score for testing data is ',d)\n",
    "    print('\\n')\n",
    "    \n",
    "    \n",
    "    from seaborn import heatmap\n",
    "    fig, axes = plt.subplots(ncols=2)\n",
    "    fig.set_size_inches(10,5)\n",
    "\n",
    "    sns.heatmap(confusion_matrix(y_test_data, test_preds), annot=True, cbar=False, fmt='d')\n",
    "    plt.xlabel('predicted labels')\n",
    "    plt.ylabel('actual labels')\n",
    "    plt.title('Confusion Matrix for Testing Data')\n",
    "    plt.subplot(1,2,1)\n",
    "\n",
    "    sns.heatmap(confusion_matrix(y_train_data, train_preds), annot=True, cbar=False, fmt='d')\n",
    "    plt.xlabel('predicted labels')\n",
    "    plt.ylabel('actual labels')\n",
    "    plt.title('Confusion Matrix for Training Data')\n",
    "    plt.subplot(1,2,2)"
   ]
  },
  {
   "cell_type": "code",
   "execution_count": null,
   "id": "72a162e9-5072-480d-adbb-b6070f7af3a7",
   "metadata": {},
   "outputs": [],
   "source": [
    "# ROC AUC Plots\n",
    "def roc_score_auc_curve(model_name,\n",
    "                       x_train_data,\n",
    "                       y_train_data, \n",
    "                       x_test_data,\n",
    "                       y_test_data):\n",
    "    \n",
    "    train_preds = model_name.predict(x_train)\n",
    "    test_preds= model_name.predict(x_test)\n",
    "\n",
    "    \n",
    "    a = round(roc_auc_score(y_train_data,model_name.predict_proba(x_train_data)[:,1]),4)\n",
    "    b = round(roc_auc_score(y_test,model_name.predict_proba(x_test_data)[:,1]),4)\n",
    "    print('AUC Score for Model on Training Data is',a)\n",
    "    print('AUC Score for Model on Testing Data is',b)\n",
    "    \n",
    "    plt.figure(figsize=(12,7))\n",
    "    \n",
    "    train_fpr, train_tpr, train_thresholds = roc_curve(y_train_data, model_name.predict_proba(x_train_data)[:,1])\n",
    "    plt.plot([0,1],[0,1], linestyle='--', color='g')\n",
    "    plt.plot(train_fpr, train_tpr, marker='.') \n",
    "  \n",
    "\n",
    "    test_fpr, test_tpr, test_thresholds = roc_curve(y_test_data, model_name.predict_proba(x_test_data)[:,1])\n",
    "    plt.plot([0,1],[0,1], linestyle='--', color='g')\n",
    "    plt.plot(test_fpr, test_tpr, marker='o') \n",
    "    \n",
    "# roc_score_auc_curve(mod7, x_train, y_train, train_pred_mod7, x_test, y_test, test_pred_mod7)"
   ]
  },
  {
   "cell_type": "code",
   "execution_count": null,
   "id": "d7c131de-6d12-42ca-ae40-c229c7b4e899",
   "metadata": {},
   "outputs": [],
   "source": [
    "# K-Fold Cross Validation Functions\n",
    "\n",
    "def k_fold_cross_valscore(model_name,\n",
    "                          x_train_data,\n",
    "                          y_train_data,\n",
    "                          folds\n",
    "                         ):\n",
    "    from sklearn.model_selection import cross_val_score\n",
    "    import pandas as pd\n",
    "    \n",
    "    model_kfold_recall = cross_val_score(model_name, x_train_data, y_train_data,cv=folds, scoring='recall', verbose=0)\n",
    "    model_kfold_accuracy = cross_val_score(model_name, x_train_data, y_train_data,cv=folds, scoring='accuracy', verbose=0)\n",
    "    model_kfold_precision = cross_val_score(model_name, x_train_data, y_train_data,cv=folds, scoring='precision', verbose=0)\n",
    "    model_kfold_f1 = cross_val_score(model_name, x_train_data, y_train_data,cv=folds, scoring='f1', verbose=0)\n",
    "    \n",
    "    a = pd.DataFrame(model_kfold_recall)\n",
    "    b = pd.DataFrame(model_kfold_accuracy)\n",
    "    c = pd.DataFrame(model_kfold_precision)\n",
    "    d = pd.DataFrame(model_kfold_f1)\n",
    "\n",
    "    cross_val_data = pd.concat([a,b,c,d], ignore_index=True, axis=1)\n",
    "    cross_val_data.rename(columns={0:\"Recall\", 1:\"Accuracy\", 2:\"Precision\",3:\"F1 Score\"},\n",
    "                        inplace=True)\n",
    "       \n",
    "   \n",
    "    print('\\n')\n",
    "    print(\"The mean recall for the model after \" ,folds,\" folds is \", np.mean(model_kfold_recall))\n",
    "    print(\"The mean accuracy for model after \",folds,\" folds is\", np.mean(model_kfold_accuracy))\n",
    "    print(\"the mean precision for the model after \",folds,\" folds is\",np.mean(model_kfold_precision))\n",
    "    print(\"the mean f1 score for the model after \",folds,\" folds is\", np.mean(model_kfold_f1))\n",
    "    print(\"\\n\")\n",
    "    return cross_val_data\n",
    "\n",
    "# k_fold_cross_valscore(mod7, x_train, y_train, folds=10)"
   ]
  },
  {
   "cell_type": "markdown",
   "id": "d998abbe-e446-4dfb-ab74-a891623e4d0a",
   "metadata": {},
   "source": [
    "## Base Models"
   ]
  },
  {
   "cell_type": "code",
   "execution_count": null,
   "id": "09dfbda2-6daa-46d9-9ee0-6bf606e90dc3",
   "metadata": {},
   "outputs": [],
   "source": [
    "# Setting up a dictionary\n",
    "base_models = {\n",
    "    'base LDA Model' : LinearDiscriminantAnalysis(),\n",
    "    'base Logistic Regression Model' : LogisticRegression(random_state=1, max_iter=100000),\n",
    "    'base ADA Boost Model' : AdaBoostClassifier(random_state=1),\n",
    "    'base Decision Tree Model' : DecisionTreeClassifier(random_state=1, criterion='gini'),\n",
    "    'base Random Forest Model' : RandomForestClassifier(random_state=1),\n",
    "    'base KNN Model' : KNeighborsClassifier(),\n",
    "    'base XGB Classifier' : xgb.XGBClassifier(random_state=1, use_label_encoder=False),\n",
    "    'base MLP Classifier' : MLPClassifier(random_state=1, max_iter = 5000),\n",
    "    'base QDA Model' : QuadraticDiscriminantAnalysis()\n",
    "}"
   ]
  },
  {
   "cell_type": "code",
   "execution_count": null,
   "id": "dd2e98f2-f28f-48d9-8442-b845b922721e",
   "metadata": {
    "scrolled": true
   },
   "outputs": [],
   "source": [
    "# function for training a model\n",
    "def model_training(model, x_train, y_train):\n",
    "    # Train the Model on training data\n",
    "    trained_model = model.fit(x_train, y_train)\n",
    "    return trained_model\n",
    "\n",
    "\n",
    "\n",
    "for model_name,model in base_models.items():\n",
    "    print(model_name.upper())\n",
    "    \n",
    "    # Model Training\n",
    "    trained_model = model_training(model, x_train, y_train)\n",
    "    \n",
    "    # # train and test preds\n",
    "    train_pred_mod = trained_model.predict(x_train)\n",
    "    test_pred_mod = trained_model.predict(x_test)\n",
    "\n",
    "    \n",
    "    # # look at the model performance metrics\n",
    "    model_performance(trained_model , x_train, y_train, train_pred_mod, x_test, y_test, test_pred_mod)\n",
    "\n",
    "\n",
    "    # # ROC-AUC \n",
    "    roc_score_auc_curve(trained_model, x_train, y_train, train_pred_mod, x_test, y_test, test_pred_mod)\n",
    "\n",
    "    # Display the plots\n",
    "    plt.show()\n",
    "\n",
    "    \n",
    "    print('\\n')\n",
    "    print('######################################################################################################################################################################################################')\n",
    "    print('\\n')"
   ]
  },
  {
   "cell_type": "code",
   "execution_count": null,
   "id": "87cffc2c-88a0-4512-bb72-f14f56a8f80d",
   "metadata": {},
   "outputs": [],
   "source": []
  },
  {
   "cell_type": "markdown",
   "id": "9853f9fe-67b7-43d2-aab6-b2f9768b2f5b",
   "metadata": {},
   "source": [
    "## 1. Tuning LDA Model"
   ]
  },
  {
   "cell_type": "code",
   "execution_count": null,
   "id": "698fa8ae-cde4-44ff-b0b4-6958fd715e01",
   "metadata": {},
   "outputs": [],
   "source": [
    "params = {\n",
    "    'solver' : ['svd', 'lsqr', 'eigen'],\n",
    "    # 'tol' : [0.001,0.0001,0.00001]\n",
    "}\n",
    "\n",
    "lda_model =  LinearDiscriminantAnalysis()\n",
    "grid = GridSearchCV(estimator = lda_model, param_grid=params, cv=3, scoring='recall', verbose=3)"
   ]
  },
  {
   "cell_type": "code",
   "execution_count": null,
   "id": "45f8bfe4-a676-4a39-a728-a8df01155cd0",
   "metadata": {},
   "outputs": [],
   "source": [
    "grid.fit(x_train, y_train)"
   ]
  },
  {
   "cell_type": "code",
   "execution_count": null,
   "id": "2b584eae-0194-40d5-b6f2-4dc1e1c72d66",
   "metadata": {},
   "outputs": [],
   "source": [
    "grid.best_params_"
   ]
  },
  {
   "cell_type": "code",
   "execution_count": null,
   "id": "facdab7b-ebf6-4123-89a1-e7966eb1ca52",
   "metadata": {},
   "outputs": [],
   "source": [
    "best_model = grid.best_estimator_"
   ]
  },
  {
   "cell_type": "code",
   "execution_count": null,
   "id": "9c1beb48-1588-4b3b-8823-0b2382e10e8f",
   "metadata": {},
   "outputs": [],
   "source": [
    "model_performance(best_model , x_train, y_train, x_test, y_test)"
   ]
  },
  {
   "cell_type": "code",
   "execution_count": null,
   "id": "b4f28356-3193-43d1-90b6-33ebcf08c36c",
   "metadata": {},
   "outputs": [],
   "source": [
    "roc_score_auc_curve(best_model, x_train, y_train, x_test, y_test)"
   ]
  },
  {
   "cell_type": "code",
   "execution_count": null,
   "id": "bc579882-bc94-4920-88aa-300f4d62897d",
   "metadata": {},
   "outputs": [],
   "source": []
  },
  {
   "cell_type": "markdown",
   "id": "b25e6e22-b1e2-4ec4-860e-3b9b9e8c1ac4",
   "metadata": {},
   "source": [
    "## 2. Logistic Regression"
   ]
  },
  {
   "cell_type": "code",
   "execution_count": null,
   "id": "611f6ac8-4b97-419f-8d4e-a64855b8aed8",
   "metadata": {},
   "outputs": [],
   "source": [
    "params = {\n",
    "    'solver' : ['newton-cg', 'lbfgs', 'liblinear', 'sag', 'saga'],\n",
    "    'tol' : [0.01,0.001,0.0001],\n",
    "    #'penalty': ['l1', 'l2'],\n",
    "    # 'max_iter': [1000, 10000],\n",
    "    'C' : np.logspace(-4,4,10,20),\n",
    "}\n",
    "logit_model =  LogisticRegression(max_iter = 100000,random_state=1, class_weight='balanced')\n",
    "grid = GridSearchCV(estimator = logit_model, param_grid=params, cv=3, scoring='recall', verbose=3)"
   ]
  },
  {
   "cell_type": "code",
   "execution_count": null,
   "id": "f8844c06-ffa0-429e-a809-a3d23d27d49e",
   "metadata": {
    "scrolled": true
   },
   "outputs": [],
   "source": [
    "grid.fit(x_train, y_train)"
   ]
  },
  {
   "cell_type": "code",
   "execution_count": null,
   "id": "2819763f-0d85-47e0-b373-1f2ba618d128",
   "metadata": {},
   "outputs": [],
   "source": [
    "grid.best_params_"
   ]
  },
  {
   "cell_type": "code",
   "execution_count": null,
   "id": "987c19af-454a-47c9-9898-6c2719dc3588",
   "metadata": {},
   "outputs": [],
   "source": [
    "best_model = grid.best_estimator_"
   ]
  },
  {
   "cell_type": "code",
   "execution_count": null,
   "id": "3fc82446-0999-4a7a-923a-60c2353a197c",
   "metadata": {},
   "outputs": [],
   "source": [
    "model_performance(best_model , x_train, y_train, x_test, y_test)"
   ]
  },
  {
   "cell_type": "code",
   "execution_count": null,
   "id": "89f93ac3-a903-40c9-8685-b2bf3b9d3b9a",
   "metadata": {},
   "outputs": [],
   "source": [
    "roc_score_auc_curve(best_model, x_train, y_train, x_test, y_test)"
   ]
  },
  {
   "cell_type": "code",
   "execution_count": null,
   "id": "eb185535-b870-4fda-b986-47ec60260dca",
   "metadata": {},
   "outputs": [],
   "source": []
  },
  {
   "cell_type": "markdown",
   "id": "5c2af81a-6e51-4eda-b78c-873550aba401",
   "metadata": {},
   "source": [
    "## 3. ADA Boost Model"
   ]
  },
  {
   "cell_type": "code",
   "execution_count": null,
   "id": "a168ba4a-3f47-4e10-823a-c76ed2c86542",
   "metadata": {},
   "outputs": [],
   "source": [
    "params = {\n",
    "    'n_estimators' : [500,600,700,800,900,1000,1100,1200,1300],\n",
    "    'algorithm' : ['SAMME', 'SAMME.R'],\n",
    "    'learning_rate' : [0.01,0.05,0.1,0.2,0.3,0.5]\n",
    "   }\n",
    "ada =  AdaBoostClassifier(random_state = 1)\n",
    "grid = GridSearchCV(estimator = ada, param_grid=params, cv=3, scoring='recall', verbose=3)"
   ]
  },
  {
   "cell_type": "code",
   "execution_count": null,
   "id": "98b58537-f69f-43ed-ba5f-a083f3ecec8d",
   "metadata": {
    "scrolled": true
   },
   "outputs": [],
   "source": [
    "grid.fit(x_train, y_train)"
   ]
  },
  {
   "cell_type": "code",
   "execution_count": null,
   "id": "d3c3e0a5-0cd5-4919-9a07-4c9a39f0e29c",
   "metadata": {},
   "outputs": [],
   "source": [
    "grid.best_params_"
   ]
  },
  {
   "cell_type": "code",
   "execution_count": null,
   "id": "96ecdb86-526f-46e4-846b-0e1c6e3c7b41",
   "metadata": {},
   "outputs": [],
   "source": [
    "best_model = grid.best_estimator_"
   ]
  },
  {
   "cell_type": "code",
   "execution_count": null,
   "id": "249fd89f-d38b-4da1-b205-7c0a420d5e38",
   "metadata": {},
   "outputs": [],
   "source": [
    "model_performance(best_model , x_train, y_train, x_test, y_test)"
   ]
  },
  {
   "cell_type": "code",
   "execution_count": null,
   "id": "2c7020d1-4fc7-4703-bac6-fd61abbdfed0",
   "metadata": {},
   "outputs": [],
   "source": [
    "roc_score_auc_curve(best_model, x_train, y_train, x_test, y_test)"
   ]
  },
  {
   "cell_type": "code",
   "execution_count": null,
   "id": "49c3ce4a-17ba-431c-b07c-b1b9416ee7f6",
   "metadata": {},
   "outputs": [],
   "source": []
  },
  {
   "cell_type": "markdown",
   "id": "3e6a70d6-e967-4a40-9a13-c5ef042e8280",
   "metadata": {},
   "source": [
    "## 4. Decision Tree Model"
   ]
  },
  {
   "cell_type": "code",
   "execution_count": null,
   "id": "976d50a7-a67f-48c8-983d-1a579b736e1d",
   "metadata": {},
   "outputs": [],
   "source": [
    "params = {\n",
    "    'criterion' : ['gini', 'entropy'],\n",
    "    'max_depth' : [6,7,8,9,10,11,12,13,14],\n",
    "    #'min_samples_leaf' : [15,20,25,30,35,40,45,50,55,60,65,70],\n",
    "    #'min_samples_split' : [25,30,35,40,45,50,60,70,80,90,100],\n",
    "    }\n",
    "\n",
    "dt_model = DecisionTreeClassifier(random_state=1)\n",
    "\n",
    "grid_search = GridSearchCV(estimator=dt_model, param_grid=params, cv=3, scoring='recall', verbose=3)"
   ]
  },
  {
   "cell_type": "code",
   "execution_count": null,
   "id": "2a0d452e-a2e3-4831-8428-0503fd47d284",
   "metadata": {
    "scrolled": true
   },
   "outputs": [],
   "source": [
    "grid_search.fit(x_train, y_train)"
   ]
  },
  {
   "cell_type": "code",
   "execution_count": null,
   "id": "fb0ade88-14d7-4fbd-9562-ded9bfda9353",
   "metadata": {},
   "outputs": [],
   "source": [
    "grid_search.best_params_"
   ]
  },
  {
   "cell_type": "code",
   "execution_count": null,
   "id": "2e820278-106e-4afb-b8b3-a4a5706707ee",
   "metadata": {},
   "outputs": [],
   "source": [
    "best_model = grid_search.best_estimator_"
   ]
  },
  {
   "cell_type": "code",
   "execution_count": null,
   "id": "ef3970be-0f00-4bac-ae6f-f3b723f83be4",
   "metadata": {},
   "outputs": [],
   "source": [
    "model_performance(best_model , x_train, y_train, x_test, y_test)"
   ]
  },
  {
   "cell_type": "code",
   "execution_count": null,
   "id": "200ad9cd-3af0-43ad-9d87-0eeb95462e8e",
   "metadata": {},
   "outputs": [],
   "source": [
    "roc_score_auc_curve(best_model, x_train, y_train, x_test, y_test)"
   ]
  },
  {
   "cell_type": "code",
   "execution_count": null,
   "id": "6688211d-abb1-4574-9883-fa83771a2b6c",
   "metadata": {},
   "outputs": [],
   "source": []
  },
  {
   "cell_type": "markdown",
   "id": "523b51e7-d455-44f3-8529-6a714d137346",
   "metadata": {},
   "source": [
    "## 5. Random Forest Model"
   ]
  },
  {
   "cell_type": "code",
   "execution_count": null,
   "id": "8c1709a9-e9e1-425e-89fa-d994f284ea33",
   "metadata": {},
   "outputs": [],
   "source": [
    "params = {\n",
    "    'max_depth' : [7,8,9,10,11,12,13,14],\n",
    "    'max_features': [15,16,17,18],\n",
    "    #'min_samples_leaf': [15,20,25,30],\n",
    "    #'min_samples_split': [60,65,70],\n",
    "    'n_estimators' : [401,501,601,701,801],\n",
    "}\n",
    "\n",
    "rfcl = RandomForestClassifier()\n",
    "grid = GridSearchCV(estimator=rfcl, param_grid=params, cv=3, scoring='recall', verbose=3)"
   ]
  },
  {
   "cell_type": "code",
   "execution_count": null,
   "id": "201217e5-1e2c-479a-98e9-42d9bc250969",
   "metadata": {
    "scrolled": true
   },
   "outputs": [],
   "source": [
    "grid.fit(x_train, y_train)"
   ]
  },
  {
   "cell_type": "code",
   "execution_count": null,
   "id": "5aaf4c95-e99c-483e-a0b2-6a3d6adffd33",
   "metadata": {},
   "outputs": [],
   "source": [
    "grid.best_params_"
   ]
  },
  {
   "cell_type": "code",
   "execution_count": null,
   "id": "ef56c6d0-2ddf-4217-8a14-e2f5d212e7eb",
   "metadata": {},
   "outputs": [],
   "source": [
    "best_model = grid.best_estimator_"
   ]
  },
  {
   "cell_type": "code",
   "execution_count": null,
   "id": "b35fdec3-dad0-4b53-9289-a0de1e18a9bd",
   "metadata": {},
   "outputs": [],
   "source": [
    "model_performance(best_model , x_train, y_train, x_test, y_test)"
   ]
  },
  {
   "cell_type": "code",
   "execution_count": null,
   "id": "a6925ed6-52bd-448b-983d-ea7b965b2afa",
   "metadata": {},
   "outputs": [],
   "source": [
    "roc_score_auc_curve(best_model, x_train, y_train, x_test, y_test)"
   ]
  },
  {
   "cell_type": "code",
   "execution_count": null,
   "id": "ab63d206-660d-43aa-9b23-775731a1fb56",
   "metadata": {},
   "outputs": [],
   "source": []
  },
  {
   "cell_type": "markdown",
   "id": "f1d0cd95-1edb-431c-a963-076efe36daa9",
   "metadata": {},
   "source": [
    "## 6. KNN Model"
   ]
  },
  {
   "cell_type": "code",
   "execution_count": null,
   "id": "b60003dc-b9a4-42d0-83c4-1e18bb3170df",
   "metadata": {},
   "outputs": [],
   "source": [
    "params = {\n",
    "    'n_neighbors' : [2,3,5,7,],  #9,11\n",
    "    'weights' : ['uniform', 'distance'],\n",
    "    'algorithm' : ['auto', 'ball_tree', 'kd_tree', 'brute'],\n",
    "    'leaf_size' : [15,20,25,30,35],\n",
    "    'metric' :['minkowski','euclidean','manhattan','chebyshev']\n",
    "    }\n",
    "knn_model =  KNeighborsClassifier(n_jobs=-1)\n",
    "grid = GridSearchCV(estimator = knn_model, param_grid=params, cv=3, scoring='recall', verbose=3)"
   ]
  },
  {
   "cell_type": "code",
   "execution_count": null,
   "id": "c97c9f03-8bd6-4fa3-a61b-b698985ebcb2",
   "metadata": {
    "scrolled": true
   },
   "outputs": [],
   "source": [
    "grid.fit(x_train, y_train)"
   ]
  },
  {
   "cell_type": "code",
   "execution_count": null,
   "id": "4aa4285c-2705-4026-8730-48aad9937827",
   "metadata": {},
   "outputs": [],
   "source": [
    "grid.best_params_"
   ]
  },
  {
   "cell_type": "code",
   "execution_count": null,
   "id": "928de16a-8d79-4de2-b6c8-4e61579cb266",
   "metadata": {},
   "outputs": [],
   "source": [
    "best_model = grid.best_estimator_"
   ]
  },
  {
   "cell_type": "code",
   "execution_count": null,
   "id": "08fbe069-a9ee-4991-860c-48d272cce130",
   "metadata": {},
   "outputs": [],
   "source": [
    "model_performance(best_model , x_train, y_train, x_test, y_test)"
   ]
  },
  {
   "cell_type": "code",
   "execution_count": null,
   "id": "fe434a70-34f3-4cde-9752-9fbdbd6771c6",
   "metadata": {},
   "outputs": [],
   "source": [
    "roc_score_auc_curve(best_model, x_train, y_train, x_test, y_test)"
   ]
  },
  {
   "cell_type": "code",
   "execution_count": null,
   "id": "45fac081-3bbd-412f-8a79-c6414c3d6bfd",
   "metadata": {},
   "outputs": [],
   "source": []
  },
  {
   "cell_type": "markdown",
   "id": "3a20d9fb-984f-4de5-8ec3-4096027443bd",
   "metadata": {},
   "source": [
    "## 7. XGBoost Model"
   ]
  },
  {
   "cell_type": "code",
   "execution_count": null,
   "id": "6b1a2349-6ec8-45b3-946f-4d5e16e2a66a",
   "metadata": {},
   "outputs": [],
   "source": [
    "params = {\n",
    "    'colsample_bytree': [0.5, 0.7], \n",
    "    'learning_rate': [0.1,0.5],      \n",
    "    'max_depth': [7,8,9,10],         \n",
    "    'n_estimators' : [800,900,1000,1100 ,1200],\n",
    "    'subsample': [0.3,0.5, 0.7],\n",
    "    \n",
    "    }\n",
    "   \n",
    "xgb =  xgb.XGBClassifier(random_state = 1, use_label_encoder=False, booster='gbtree', eval_metric='logloss')\n",
    "grid = GridSearchCV(estimator = xgb, param_grid=params, cv=3, scoring='recall', verbose=3)"
   ]
  },
  {
   "cell_type": "code",
   "execution_count": null,
   "id": "59d0a096-b848-435e-8b10-e055c3b21c9d",
   "metadata": {
    "scrolled": true
   },
   "outputs": [],
   "source": [
    "grid.fit(x_train, y_train)"
   ]
  },
  {
   "cell_type": "code",
   "execution_count": null,
   "id": "c34cb4d4-049b-4a76-a221-a6b4ef71a9d6",
   "metadata": {},
   "outputs": [],
   "source": [
    "grid.best_params_"
   ]
  },
  {
   "cell_type": "code",
   "execution_count": null,
   "id": "bbd8cb37-ded9-4f70-95d8-d2dc0c2ce226",
   "metadata": {},
   "outputs": [],
   "source": [
    "best_model = grid.best_estimator_"
   ]
  },
  {
   "cell_type": "code",
   "execution_count": null,
   "id": "5e84f167-00e8-477c-9d32-7938e7efdc7a",
   "metadata": {},
   "outputs": [],
   "source": [
    "model_performance(best_model , x_train, y_train, x_test, y_test)"
   ]
  },
  {
   "cell_type": "code",
   "execution_count": null,
   "id": "fe0e0af7-96d7-4e9c-82a3-fa4fed13d507",
   "metadata": {},
   "outputs": [],
   "source": [
    "roc_score_auc_curve(best_model, x_train, y_train, x_test, y_test)"
   ]
  },
  {
   "cell_type": "code",
   "execution_count": null,
   "id": "97e20480-c9a7-4266-ba2e-2266962d752b",
   "metadata": {},
   "outputs": [],
   "source": []
  },
  {
   "cell_type": "markdown",
   "id": "529911a8-3ef0-451e-afbe-0fa37707e468",
   "metadata": {},
   "source": [
    "## 8. ANN Model"
   ]
  },
  {
   "cell_type": "code",
   "execution_count": null,
   "id": "5f633a29-e1c6-4c5c-aa50-501bd5528ca6",
   "metadata": {},
   "outputs": [],
   "source": [
    "params = {\n",
    "    'activation': ['logistic', 'relu', 'tanh', 'identity' ],\n",
    "    'hidden_layer_sizes': [100, 200, 300, (100,100), (200,200), (300,300), (100, 100, 100)],\n",
    "    'max_iter' : [10000],\n",
    "    # 'solver': ['sgd', 'adam', 'lbfgs'],\n",
    "    #'tol': [0.1,0.5,0.01],\n",
    "    \n",
    "}\n",
    "\n",
    "ann = MLPClassifier(random_state=1)\n",
    "grid = GridSearchCV(estimator=ann, param_grid=params,scoring='recall', cv=3, verbose=3)"
   ]
  },
  {
   "cell_type": "code",
   "execution_count": null,
   "id": "b098334a-6bc7-487c-8299-e956c8ebe0a4",
   "metadata": {
    "scrolled": true
   },
   "outputs": [],
   "source": [
    "grid.fit(x_train, y_train)"
   ]
  },
  {
   "cell_type": "code",
   "execution_count": null,
   "id": "daf11269-a474-40f8-8676-a1a26c0bc087",
   "metadata": {},
   "outputs": [],
   "source": [
    "grid.best_params_"
   ]
  },
  {
   "cell_type": "code",
   "execution_count": null,
   "id": "4897ca67-f568-4edb-99f5-b0240d540271",
   "metadata": {},
   "outputs": [],
   "source": [
    "best_model = grid.best_estimator_"
   ]
  },
  {
   "cell_type": "code",
   "execution_count": null,
   "id": "69b2d952-efd1-41e2-bb06-9b0b8ae89f6e",
   "metadata": {},
   "outputs": [],
   "source": [
    "model_performance(best_model , x_train, y_train, x_test, y_test)"
   ]
  },
  {
   "cell_type": "code",
   "execution_count": null,
   "id": "231c9c3a-7278-4868-853d-fd3f5752c483",
   "metadata": {},
   "outputs": [],
   "source": []
  },
  {
   "cell_type": "code",
   "execution_count": null,
   "id": "b8e9af65-d4cf-4371-8402-e1d7b5722938",
   "metadata": {},
   "outputs": [],
   "source": []
  },
  {
   "cell_type": "markdown",
   "id": "223e141d-7b2d-402e-a431-9bbde9277acf",
   "metadata": {},
   "source": [
    "## 9. Quadratic Discriminant Analysis"
   ]
  },
  {
   "cell_type": "code",
   "execution_count": null,
   "id": "56cbda9d-3356-4cc0-a0c5-83ce576efdbb",
   "metadata": {},
   "outputs": [],
   "source": [
    "model = QuadraticDiscriminantAnalysis()\n",
    "qda_model = model.fit(x_train, y_train)\n",
    "qda_model"
   ]
  },
  {
   "cell_type": "code",
   "execution_count": null,
   "id": "e78385e1-9f71-4c66-8d48-8a090940d00f",
   "metadata": {},
   "outputs": [],
   "source": [
    "model_performance(qda_model , x_train, y_train, x_test, y_test)"
   ]
  },
  {
   "cell_type": "code",
   "execution_count": null,
   "id": "50752585-4317-44e8-94c5-ffadd5f3cc83",
   "metadata": {},
   "outputs": [],
   "source": [
    "roc_score_auc_curve(qda_model, x_train, y_train, x_test, y_test)"
   ]
  },
  {
   "cell_type": "code",
   "execution_count": null,
   "id": "7db02a73-f025-4dc7-a8d4-89cbd097dc13",
   "metadata": {},
   "outputs": [],
   "source": []
  },
  {
   "cell_type": "markdown",
   "id": "e9bd5f30-71a9-4bd5-8b90-e9ee38fe8ba8",
   "metadata": {},
   "source": [
    "## Light Gradient Boosting"
   ]
  },
  {
   "cell_type": "code",
   "execution_count": null,
   "id": "f855c452-6f4b-4d2d-8cb4-8f19f816e72e",
   "metadata": {},
   "outputs": [],
   "source": [
    "# Initialize a LightGBM Classifier with 'auc' as the evaluation metric \n",
    "lgb_model = LGBMClassifier(metric='recall') \n",
    "  \n",
    "# Fit the model on the training data \n",
    "lgb_model.fit(x_train, y_train) \n",
    "  \n",
    "# # Make predictions on the training and validation sets \n",
    "# y_train = model.predict(X_train) \n",
    "# y_val = model.predict(X_val) "
   ]
  },
  {
   "cell_type": "code",
   "execution_count": null,
   "id": "ecade06b-4ff5-48d8-b128-9701e4b35605",
   "metadata": {},
   "outputs": [],
   "source": [
    "model_performance(lgb_model , x_train, y_train, x_test, y_test)"
   ]
  },
  {
   "cell_type": "code",
   "execution_count": null,
   "id": "d513c1a4-11b6-4e4d-9fb7-196078670317",
   "metadata": {},
   "outputs": [],
   "source": [
    "roc_score_auc_curve(lgb_model, x_train, y_train, x_test, y_test)"
   ]
  },
  {
   "cell_type": "code",
   "execution_count": null,
   "id": "caf2149c-2c10-4047-9414-ea00b700c1b4",
   "metadata": {},
   "outputs": [],
   "source": []
  }
 ],
 "metadata": {
  "kernelspec": {
   "display_name": "Python 3 (ipykernel)",
   "language": "python",
   "name": "python3"
  },
  "language_info": {
   "codemirror_mode": {
    "name": "ipython",
    "version": 3
   },
   "file_extension": ".py",
   "mimetype": "text/x-python",
   "name": "python",
   "nbconvert_exporter": "python",
   "pygments_lexer": "ipython3",
   "version": "3.8.18"
  }
 },
 "nbformat": 4,
 "nbformat_minor": 5
}
